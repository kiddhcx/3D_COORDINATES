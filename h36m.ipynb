{
 "cells": [
  {
   "cell_type": "code",
   "execution_count": null,
   "metadata": {},
   "outputs": [],
   "source": [
    "import json\n",
    "from pycocotools.coco import COCO\n",
    "import os\n",
    "import numpy as np\n",
    "from pose_utils import world2cam, cam2pixel, pixel2cam, rigid_align, process_bbox"
   ]
  },
  {
   "cell_type": "code",
   "execution_count": null,
   "metadata": {},
   "outputs": [],
   "source": [
    "dir_joint = '/home/kiddhcx/Downloads/annotations/Human36M_subject1_joint_3d.json'\n",
    "dir_data = '/home/kiddhcx/Downloads/annotations/Human36M_subject1_data.json'\n",
    "dir_camera = '/home/kiddhcx/Downloads/annotations/Human36M_subject1_camera.json'"
   ]
  },
  {
   "cell_type": "code",
   "execution_count": null,
   "metadata": {},
   "outputs": [],
   "source": [
    "joint_num = 18\n",
    "joints_name = ('Pelvis', 'R_Hip', 'R_Knee', 'R_Ankle', 'L_Hip', 'L_Knee', 'L_Ankle', 'Torso', 'Neck', 'Nose', 'Head', 'L_Shoulder', 'L_Elbow', 'L_Wrist', 'R_Shoulder', 'R_Elbow', 'R_Wrist', 'Thorax')\n",
    "lshoulder_idx = joints_name.index('L_Shoulder')\n",
    "rshoulder_idx = joints_name.index('R_Shoulder')\n",
    "root_idx = joints_name.index('Pelvis')"
   ]
  },
  {
   "cell_type": "code",
   "execution_count": null,
   "metadata": {},
   "outputs": [],
   "source": [
    "def add_thorax(joint_coord):\n",
    "    thorax = (joint_coord[lshoulder_idx, :] + joint_coord[rshoulder_idx, :]) * 0.5\n",
    "    thorax = thorax.reshape((1, 3))\n",
    "    joint_coord = np.concatenate((joint_coord, thorax), axis=0)\n",
    "    return joint_coord"
   ]
  },
  {
   "cell_type": "code",
   "execution_count": null,
   "metadata": {},
   "outputs": [],
   "source": [
    "def load_data(dir_joint, dir_data, dir_camera):\n",
    "    # aggregate annotations from each subject\n",
    "    db = COCO()\n",
    "    cameras = {}\n",
    "    joints = {}\n",
    "    \n",
    "    # data load\n",
    "    with open(dir_data,'r') as f:\n",
    "        annot = json.load(f)\n",
    "    if len(db.dataset) == 0:\n",
    "        for k,v in annot.items():\n",
    "            db.dataset[k] = v\n",
    "    else:\n",
    "        for k,v in annot.items():\n",
    "            db.dataset[k] += v\n",
    "    # camera load\n",
    "    with open(dir_camera,'r') as f:\n",
    "        cameras = json.load(f)\n",
    "    # joint coordinate load\n",
    "    with open(dir_joint, 'r') as f:\n",
    "        joints = json.load(f)\n",
    "    db.createIndex()\n",
    "\n",
    "    data = []\n",
    "    for aid in db.anns.keys():\n",
    "        ann = db.anns[aid]\n",
    "        image_id = ann['image_id']\n",
    "        img = db.loadImgs(image_id)[0]\n",
    "        img_width, img_height = img['width'], img['height']\n",
    "\n",
    "        # camera parameter\n",
    "        cam_idx = img['cam_idx']\n",
    "        cam_param = cameras[str(cam_idx)]\n",
    "        R,t,f,c = np.array(cam_param['R'], dtype=np.float32), np.array(cam_param['t'], dtype=np.float32), np.array(cam_param['f'], dtype=np.float32), np.array(cam_param['c'], dtype=np.float32)\n",
    "            \n",
    "        # project world coordinate to cam, image coordinate space\n",
    "        action_idx = img['action_idx']; subaction_idx = img['subaction_idx']; frame_idx = img['frame_idx'];\n",
    "        joint_world = np.array(joints[str(action_idx)][str(subaction_idx)][str(frame_idx)], dtype=np.float32)\n",
    "        joint_world = add_thorax(joint_world)\n",
    "        joint_cam = world2cam(joint_world, R, t)\n",
    "        joint_img = cam2pixel(joint_cam, f, c)\n",
    "        joint_img[:,2] = joint_img[:,2] - joint_cam[root_idx,2]\n",
    "        joint_vis = np.ones((joint_num,1))\n",
    "        \n",
    "\n",
    "        bbox = process_bbox(np.array(ann['bbox']), img_width, img_height)\n",
    "        if bbox is None: continue\n",
    "        root_cam = joint_cam[root_idx]\n",
    "            \n",
    "        data.append({\n",
    "            'img_id': image_id,\n",
    "            'bbox': bbox,\n",
    "            'joint_img': joint_img, # [org_img_x, org_img_y, depth - root_depth]\n",
    "            'joint_cam': joint_cam, # [X, Y, Z] in camera coordinate\n",
    "            'joint_vis': joint_vis,\n",
    "            'root_cam': root_cam, # [X, Y, Z] in camera coordinate\n",
    "            'f': f,\n",
    "            'c': c})\n",
    "    \n",
    "    return data"
   ]
  },
  {
   "cell_type": "code",
   "execution_count": null,
   "metadata": {},
   "outputs": [],
   "source": [
    "d = load_data(dir_joint, dir_data, dir_camera)\n",
    "print(d)"
   ]
  },
  {
   "cell_type": "code",
   "execution_count": null,
   "metadata": {},
   "outputs": [],
   "source": []
  }
 ],
 "metadata": {
  "language_info": {
   "name": "python"
  },
  "orig_nbformat": 4
 },
 "nbformat": 4,
 "nbformat_minor": 2
}
