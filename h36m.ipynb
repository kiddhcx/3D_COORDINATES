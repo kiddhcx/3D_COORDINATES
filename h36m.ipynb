{
 "cells": [
  {
   "cell_type": "code",
   "execution_count": 33,
   "metadata": {},
   "outputs": [],
   "source": [
    "import json\n",
    "from pycocotools.coco import COCO\n",
    "import os\n",
    "import numpy as np\n",
    "from pose_utils import world2cam, cam2pixel, pixel2cam, rigid_align, process_bbox\n",
    "import matplotlib.pyplot as plt\n",
    "%matplotlib inline"
   ]
  },
  {
   "cell_type": "code",
   "execution_count": 22,
   "metadata": {},
   "outputs": [],
   "source": [
    "dir_joint = '/home/kiddhcx/Downloads/annotations/Human36M_subject1_joint_3d.json'\n",
    "dir_data = '/home/kiddhcx/Downloads/annotations/Human36M_subject1_data.json'\n",
    "dir_camera = '/home/kiddhcx/Downloads/annotations/Human36M_subject1_camera.json'"
   ]
  },
  {
   "cell_type": "code",
   "execution_count": 23,
   "metadata": {},
   "outputs": [],
   "source": [
    "joint_num = 18\n",
    "joints_name = ('Pelvis', 'R_Hip', 'R_Knee', 'R_Ankle', 'L_Hip', 'L_Knee', 'L_Ankle', 'Torso', 'Neck', 'Nose', 'Head', 'L_Shoulder', 'L_Elbow', 'L_Wrist', 'R_Shoulder', 'R_Elbow', 'R_Wrist', 'Thorax')\n",
    "lshoulder_idx = joints_name.index('L_Shoulder')\n",
    "rshoulder_idx = joints_name.index('R_Shoulder')\n",
    "root_idx = joints_name.index('Pelvis')"
   ]
  },
  {
   "cell_type": "code",
   "execution_count": 24,
   "metadata": {},
   "outputs": [],
   "source": [
    "def add_thorax(joint_coord):\n",
    "    thorax = (joint_coord[lshoulder_idx, :] + joint_coord[rshoulder_idx, :]) * 0.5\n",
    "    thorax = thorax.reshape((1, 3))\n",
    "    joint_coord = np.concatenate((joint_coord, thorax), axis=0)\n",
    "    return joint_coord"
   ]
  },
  {
   "cell_type": "code",
   "execution_count": 25,
   "metadata": {},
   "outputs": [],
   "source": [
    "def load_data(dir_joint, dir_data, dir_camera):\n",
    "    # aggregate annotations from each subject\n",
    "    db = COCO()\n",
    "    cameras = {}\n",
    "    joints = {}\n",
    "    \n",
    "    # data load\n",
    "    with open(dir_data,'r') as f:\n",
    "        annot = json.load(f)\n",
    "    if len(db.dataset) == 0:\n",
    "        for k,v in annot.items():\n",
    "            db.dataset[k] = v\n",
    "    else:\n",
    "        for k,v in annot.items():\n",
    "            db.dataset[k] += v\n",
    "    # camera load\n",
    "    with open(dir_camera,'r') as f:\n",
    "        cameras = json.load(f)\n",
    "    # joint coordinate load\n",
    "    with open(dir_joint, 'r') as f:\n",
    "        joints = json.load(f)\n",
    "    db.createIndex()\n",
    "\n",
    "    data = []\n",
    "    for aid in db.anns.keys():\n",
    "        ann = db.anns[aid]\n",
    "        image_id = ann['image_id']\n",
    "        img = db.loadImgs(image_id)[0]\n",
    "        img_width, img_height = img['width'], img['height']\n",
    "\n",
    "        # camera parameter\n",
    "        cam_idx = img['cam_idx']\n",
    "        cam_param = cameras[str(cam_idx)]\n",
    "        R,t,f,c = np.array(cam_param['R'], dtype=np.float32), np.array(cam_param['t'], dtype=np.float32), np.array(cam_param['f'], dtype=np.float32), np.array(cam_param['c'], dtype=np.float32)\n",
    "            \n",
    "        # project world coordinate to cam, image coordinate space\n",
    "        action_idx = img['action_idx']; subaction_idx = img['subaction_idx']; frame_idx = img['frame_idx'];\n",
    "        joint_world = np.array(joints[str(action_idx)][str(subaction_idx)][str(frame_idx)], dtype=np.float32)\n",
    "        joint_world = add_thorax(joint_world)\n",
    "        joint_cam = world2cam(joint_world, R, t)\n",
    "        joint_img = cam2pixel(joint_cam, f, c)\n",
    "        joint_img[:,2] = joint_img[:,2] - joint_cam[root_idx,2]\n",
    "        joint_vis = np.ones((joint_num,1))\n",
    "        \n",
    "\n",
    "        bbox = process_bbox(np.array(ann['bbox']), img_width, img_height)\n",
    "        if bbox is None: continue\n",
    "        root_cam = joint_cam[root_idx]\n",
    "            \n",
    "        data.append({\n",
    "            'img_id': image_id,\n",
    "            'bbox': bbox,\n",
    "            'joint_img': joint_img, # [org_img_x, org_img_y, depth - root_depth]\n",
    "            'joint_cam': joint_cam, # [X, Y, Z] in camera coordinate\n",
    "            'joint_vis': joint_vis,\n",
    "            'root_cam': root_cam, # [X, Y, Z] in camera coordinate\n",
    "            'f': f,\n",
    "            'c': c})\n",
    "        \n",
    "    \n",
    "    return data"
   ]
  },
  {
   "cell_type": "code",
   "execution_count": 26,
   "metadata": {},
   "outputs": [
    {
     "name": "stdout",
     "output_type": "stream",
     "text": [
      "creating index...\n",
      "index created!\n"
     ]
    }
   ],
   "source": [
    "d = load_data(dir_joint, dir_data, dir_camera)"
   ]
  },
  {
   "cell_type": "code",
   "execution_count": 29,
   "metadata": {},
   "outputs": [
    {
     "name": "stdout",
     "output_type": "stream",
     "text": [
      "[-176.73077 -321.04865 5203.882  ]\n",
      "[[-176.73077  -321.04865  5203.882   ]\n",
      " [ -52.961914 -309.70453  5251.0825  ]\n",
      " [-155.64156    73.07172  5448.807   ]\n",
      " [ -29.831573  506.78442  5400.138   ]\n",
      " [-300.49985  -332.39282  5156.681   ]\n",
      " [-258.24048    99.60901  5244.681   ]\n",
      " [-209.48436   548.8338   5290.7637  ]\n",
      " [-109.15762  -529.7282   5123.8906  ]\n",
      " [-140.19118  -780.1214   5074.6045  ]\n",
      " [-153.1819   -886.97626  5130.165   ]\n",
      " [-118.93483  -970.22845  5058.5986  ]\n",
      " [-259.08997  -690.1336   5050.592   ]\n",
      " [-370.67087  -448.59937  5134.1772  ]\n",
      " [-462.28662  -290.82953  5307.6274  ]\n",
      " [ -19.760376 -716.91815  5140.2725  ]\n",
      " [  35.791595 -470.14496  5257.7383  ]\n",
      " [  13.892456 -279.85303  5421.0684  ]\n",
      " [-139.42517  -703.52594  5095.432   ]]\n"
     ]
    }
   ],
   "source": [
    "print(d[0]['root_cam'])\n",
    "print(d[0]['joint_cam'])\n",
    "\n",
    "\n"
   ]
  },
  {
   "cell_type": "code",
   "execution_count": 30,
   "metadata": {},
   "outputs": [
    {
     "name": "stdout",
     "output_type": "stream",
     "text": [
      "['Pelvis', 'R_Hip', 'R_Knee', 'R_Ankle', 'L_Hip', 'L_Knee', 'L_Ankle', 'Torso', 'Neck', 'Nose', 'Head', 'L_Shoulder', 'L_Elbow', 'L_Wrist', 'R_Shoulder', 'R_Elbow', 'R_Wrist', 'Thorax']\n"
     ]
    }
   ],
   "source": [
    "H36M_NAMES = ['']*18\n",
    "H36M_NAMES[0]  = 'Pelvis'\n",
    "H36M_NAMES[1]  = 'R_Hip'\n",
    "H36M_NAMES[2]  = 'R_Knee'\n",
    "H36M_NAMES[3]  = 'R_Ankle'\n",
    "H36M_NAMES[4]  = 'L_Hip'\n",
    "H36M_NAMES[5]  = 'L_Knee'\n",
    "H36M_NAMES[6]  = 'L_Ankle'\n",
    "H36M_NAMES[7] = 'Torso'\n",
    "H36M_NAMES[8] = 'Neck'\n",
    "H36M_NAMES[9] = 'Nose'\n",
    "H36M_NAMES[10] = 'Head'\n",
    "H36M_NAMES[11] = 'L_Shoulder'\n",
    "H36M_NAMES[12] = 'L_Elbow'\n",
    "H36M_NAMES[13] = 'L_Wrist'\n",
    "H36M_NAMES[14] = 'R_Shoulder'\n",
    "H36M_NAMES[15] = 'R_Elbow'\n",
    "H36M_NAMES[16] = 'R_Wrist'\n",
    "H36M_NAMES[17] = 'Thorax'"
   ]
  },
  {
   "cell_type": "code",
   "execution_count": 73,
   "metadata": {},
   "outputs": [
    {
     "name": "stdout",
     "output_type": "stream",
     "text": [
      "[ -29.831573  506.78442  5400.138   ]\n"
     ]
    }
   ],
   "source": [
    "right_ankle = d[0]['joint_cam'][3]\n",
    "print(right_ankle)"
   ]
  },
  {
   "cell_type": "code",
   "execution_count": 112,
   "metadata": {},
   "outputs": [],
   "source": [
    "def drawskeleton(channels, ax, lcolor='#ff0000', rcolor='#0000ff'):\n",
    "    vals = channels\n",
    "    connections = [[0, 1], [1, 2], [2, 3], [0, 4], [4, 5],\n",
    "                       [5, 6], [0, 7], [7, 8], [8, 9], [9, 10],\n",
    "                       [8, 11], [11, 12], [12, 13], [8, 14], [14, 15], [15, 16], [7,17]]\n",
    "\n",
    "    LR = np.array([0, 0, 0, 1, 1, 1, 1, 1, 1, 1, 1, 1, 1, 0, 0, 0, 1], dtype=bool)\n",
    "\n",
    "    for ind, (i,j) in enumerate(connections):\n",
    "        x, y, z = [np.array([vals[i, c], vals[j, c]]) for c in range(3)]\n",
    "        ax.plot3D(x, y, z, lw=2, c=lcolor if LR[ind] else rcolor)\n",
    "\n",
    "    \n",
    "    xroot, yroot, zroot = vals[0, 0], vals[0, 1], vals[0, 2]\n",
    "    print(xroot)\n",
    "    ax.set_xlim3d([-500 + xroot, 500 + xroot])\n",
    "    ax.set_zlim3d([-100 + zroot, 500 + zroot])\n",
    "    ax.set_ylim3d([-1000 + yroot, 1000+ yroot])\n",
    "\n",
    "    ax.set_xlabel(\"x\")\n",
    "    ax.set_ylabel(\"y\")\n",
    "    ax.set_zlabel(\"z\")\n"
   ]
  },
  {
   "cell_type": "code",
   "execution_count": 113,
   "metadata": {},
   "outputs": [
    {
     "name": "stdout",
     "output_type": "stream",
     "text": [
      "-176.73077\n"
     ]
    },
    {
     "data": {
      "image/png": "[encoded data removed]",
      "text/plain": [
       "<Figure size 1440x864 with 1 Axes>"
      ]
     },
     "metadata": {
      "needs_background": "light"
     },
     "output_type": "display_data"
    }
   ],
   "source": [
    "fig = plt.figure(figsize=(20,12))\n",
    "ax = fig.add_subplot('121', projection='3d')\n",
    "img = d[0]['joint_cam']\n",
    "drawskeleton(img, ax)\n",
    "ax.view_init(-80,-90)"
   ]
  },
  {
   "cell_type": "code",
   "execution_count": null,
   "metadata": {},
   "outputs": [],
   "source": []
  },
  {
   "cell_type": "code",
   "execution_count": null,
   "metadata": {},
   "outputs": [],
   "source": []
  }
 ],
 "metadata": {
  "kernelspec": {
   "display_name": "Python 3.8.3 ('base')",
   "language": "python",
   "name": "python3"
  },
  "language_info": {
   "codemirror_mode": {
    "name": "ipython",
    "version": 3
   },
   "file_extension": ".py",
   "mimetype": "text/x-python",
   "name": "python",
   "nbconvert_exporter": "python",
   "pygments_lexer": "ipython3",
   "version": "3.8.3"
  },
  "orig_nbformat": 4,
  "vscode": {
   "interpreter": {
    "hash": "e15e4e1f2b8e2f3078a2b907f15a6ee8ed8f365b930b751ccbe6fa40ffe3fc00"
   }
  }
 },
 "nbformat": 4,
 "nbformat_minor": 2
}
